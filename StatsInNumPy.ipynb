{
 "cells": [
  {
   "cell_type": "markdown",
   "id": "4636bbab",
   "metadata": {},
   "source": [
    "# Basic Statistical Functions"
   ]
  },
  {
   "cell_type": "markdown",
   "id": "0f443360",
   "metadata": {},
   "source": [
    "**Mean**"
   ]
  },
  {
   "cell_type": "code",
   "execution_count": 2,
   "id": "82c0e968",
   "metadata": {},
   "outputs": [
    {
     "name": "stdout",
     "output_type": "stream",
     "text": [
      "Mean: 3.0\n"
     ]
    }
   ],
   "source": [
    "import numpy as np\n",
    "\n",
    "data = np.array([1,2,3,4,5])\n",
    "mean_value = np.mean(data)\n",
    "print(\"Mean:\", mean_value)"
   ]
  },
  {
   "cell_type": "markdown",
   "id": "45802db1",
   "metadata": {},
   "source": [
    "**Median**"
   ]
  },
  {
   "cell_type": "code",
   "execution_count": 3,
   "id": "f017cf1c",
   "metadata": {},
   "outputs": [
    {
     "name": "stdout",
     "output_type": "stream",
     "text": [
      "Median: 3.0\n"
     ]
    }
   ],
   "source": [
    "median_value = np.median(data)\n",
    "print(\"Median:\", median_value)"
   ]
  },
  {
   "cell_type": "markdown",
   "id": "f36ef5cc",
   "metadata": {},
   "source": [
    "**Standard Deviation**"
   ]
  },
  {
   "cell_type": "code",
   "execution_count": 5,
   "id": "2d0f4322",
   "metadata": {},
   "outputs": [
    {
     "name": "stdout",
     "output_type": "stream",
     "text": [
      "Standard Deviation: 1.4142135623730951\n"
     ]
    }
   ],
   "source": [
    "std_value = np.std(data)\n",
    "print(\"Standard Deviation:\", std_value)"
   ]
  },
  {
   "cell_type": "markdown",
   "id": "0b6d8416",
   "metadata": {},
   "source": [
    "**Variance**"
   ]
  },
  {
   "cell_type": "code",
   "execution_count": 7,
   "id": "f50e6e7f",
   "metadata": {},
   "outputs": [
    {
     "name": "stdout",
     "output_type": "stream",
     "text": [
      "Variance: 2.0\n"
     ]
    }
   ],
   "source": [
    "var_value = np.var(data)\n",
    "print(\"Variance:\", var_value)"
   ]
  },
  {
   "cell_type": "markdown",
   "id": "69b544bc",
   "metadata": {},
   "source": [
    "# Advance statistical Functions"
   ]
  },
  {
   "cell_type": "code",
   "execution_count": 10,
   "id": "330e7928",
   "metadata": {},
   "outputs": [
    {
     "name": "stdout",
     "output_type": "stream",
     "text": [
      "25th Percentile: 2.0\n",
      "75th Percentile: 4.0\n"
     ]
    }
   ],
   "source": [
    "#Percentile\n",
    "percentile_25 = np.percentile(data, 25)\n",
    "percentile_75 = np.percentile(data, 75)\n",
    "print(\"25th Percentile:\", percentile_25)\n",
    "print(\"75th Percentile:\", percentile_75)\n"
   ]
  },
  {
   "cell_type": "code",
   "execution_count": 11,
   "id": "5065b52a",
   "metadata": {},
   "outputs": [
    {
     "name": "stdout",
     "output_type": "stream",
     "text": [
      "Correlation Coefficient Matrix:\n",
      " [[1. 1.]\n",
      " [1. 1.]]\n"
     ]
    }
   ],
   "source": [
    "#correlation Coefficient\n",
    "x = np.array([1, 2, 3, 4, 5])\n",
    "y = np.array([2, 3, 4, 5, 6])\n",
    "correlation_matrix = np.corrcoef(x, y)\n",
    "print(\"Correlation Coefficient Matrix:\\n\", correlation_matrix)"
   ]
  },
  {
   "cell_type": "code",
   "execution_count": 12,
   "id": "96ec89d1",
   "metadata": {},
   "outputs": [
    {
     "name": "stdout",
     "output_type": "stream",
     "text": [
      "Covariance Matrix:\n",
      " [[2.5 2.5]\n",
      " [2.5 2.5]]\n"
     ]
    }
   ],
   "source": [
    "#covariance\n",
    "covariance_matrix = np.cov(x, y)\n",
    "print(\"Covariance Matrix:\\n\", covariance_matrix)"
   ]
  },
  {
   "cell_type": "markdown",
   "id": "f30b8b24",
   "metadata": {},
   "source": [
    "# Aggregation Functions "
   ]
  },
  {
   "cell_type": "code",
   "execution_count": 14,
   "id": "34f2fe70",
   "metadata": {},
   "outputs": [
    {
     "name": "stdout",
     "output_type": "stream",
     "text": [
      "sum: 15\n"
     ]
    }
   ],
   "source": [
    "#sum\n",
    "total_sum = np.sum(data)\n",
    "print(\"sum:\", total_sum)"
   ]
  },
  {
   "cell_type": "code",
   "execution_count": 16,
   "id": "b3436bd7",
   "metadata": {},
   "outputs": [
    {
     "name": "stdout",
     "output_type": "stream",
     "text": [
      "Min: 1\n",
      "Max: 5\n"
     ]
    }
   ],
   "source": [
    "#Min and Max\n",
    "min_value = np.min(data)\n",
    "max_value = np.max(data)\n",
    "print(\"Min:\", min_value)\n",
    "print(\"Max:\", max_value)"
   ]
  },
  {
   "cell_type": "code",
   "execution_count": 17,
   "id": "edd6cbf1",
   "metadata": {},
   "outputs": [
    {
     "name": "stdout",
     "output_type": "stream",
     "text": [
      "Cumulative Sum: [ 1  3  6 10 15]\n"
     ]
    }
   ],
   "source": [
    "#cumulative Sum\n",
    "cumulative_sum = np.cumsum(data)\n",
    "print(\"Cumulative Sum:\", cumulative_sum)"
   ]
  },
  {
   "cell_type": "code",
   "execution_count": 18,
   "id": "33401852",
   "metadata": {},
   "outputs": [
    {
     "name": "stdout",
     "output_type": "stream",
     "text": [
      "Mean Across Columns: [4. 5. 6.]\n",
      "Mean Across Rows: [2. 5. 8.]\n"
     ]
    }
   ],
   "source": [
    "#Applying Functions Along Axes\n",
    "matrix = np.array([[1, 2, 3], [4, 5, 6], [7, 8, 9]])\n",
    "mean_across_columns = np.mean(matrix, axis=0)\n",
    "mean_across_rows = np.mean(matrix, axis=1)\n",
    "print(\"Mean Across Columns:\", mean_across_columns)\n",
    "print(\"Mean Across Rows:\", mean_across_rows)"
   ]
  },
  {
   "cell_type": "markdown",
   "id": "89785b2b",
   "metadata": {},
   "source": [
    "Provides tools to analyze and interpret your data effectively. By leveraging these functions, you can gain insights into the central tendency, dispersion, and relationships within your data."
   ]
  },
  {
   "cell_type": "code",
   "execution_count": null,
   "id": "77ef1fb7",
   "metadata": {},
   "outputs": [],
   "source": []
  }
 ],
 "metadata": {
  "kernelspec": {
   "display_name": "Python 3 (ipykernel)",
   "language": "python",
   "name": "python3"
  },
  "language_info": {
   "codemirror_mode": {
    "name": "ipython",
    "version": 3
   },
   "file_extension": ".py",
   "mimetype": "text/x-python",
   "name": "python",
   "nbconvert_exporter": "python",
   "pygments_lexer": "ipython3",
   "version": "3.9.16"
  }
 },
 "nbformat": 4,
 "nbformat_minor": 5
}
