{
 "cells": [
  {
   "cell_type": "markdown",
   "id": "e14ea544",
   "metadata": {},
   "source": [
    "# BASIC OPERATIONS"
   ]
  },
  {
   "cell_type": "code",
   "execution_count": 2,
   "id": "a0c180d1",
   "metadata": {},
   "outputs": [],
   "source": [
    "import numpy as np"
   ]
  },
  {
   "cell_type": "markdown",
   "id": "ed98b353",
   "metadata": {},
   "source": [
    "**Creating Arrays**"
   ]
  },
  {
   "cell_type": "code",
   "execution_count": 3,
   "id": "267e64d0",
   "metadata": {},
   "outputs": [
    {
     "name": "stdout",
     "output_type": "stream",
     "text": [
      "[1 2 3 4 5]\n"
     ]
    }
   ],
   "source": [
    "#From a list\n",
    "a =np.array([1,2,3,4,5])\n",
    "print(a)"
   ]
  },
  {
   "cell_type": "code",
   "execution_count": 4,
   "id": "7987fa06",
   "metadata": {},
   "outputs": [
    {
     "name": "stdout",
     "output_type": "stream",
     "text": [
      "[[1 2 3]\n",
      " [4 5 6]]\n"
     ]
    }
   ],
   "source": [
    "#From a nested list(to create a matrix)\n",
    "b = np.array([[1,2,3],[4,5,6]])\n",
    "print(b)"
   ]
  },
  {
   "cell_type": "markdown",
   "id": "4bd7a00d",
   "metadata": {},
   "source": [
    "**Using built-in functions:**"
   ]
  },
  {
   "cell_type": "code",
   "execution_count": 5,
   "id": "282d58f5",
   "metadata": {},
   "outputs": [
    {
     "name": "stdout",
     "output_type": "stream",
     "text": [
      "[[0. 0. 0. 0.]\n",
      " [0. 0. 0. 0.]\n",
      " [0. 0. 0. 0.]]\n"
     ]
    }
   ],
   "source": [
    "#Zeros array:\n",
    "c =np.zeros((3,4))\n",
    "print(c)"
   ]
  },
  {
   "cell_type": "code",
   "execution_count": 6,
   "id": "97e38d58",
   "metadata": {},
   "outputs": [
    {
     "name": "stdout",
     "output_type": "stream",
     "text": [
      "[[1. 1. 1.]\n",
      " [1. 1. 1.]]\n"
     ]
    }
   ],
   "source": [
    "#Ones array:\n",
    "d = np.ones((2,3))\n",
    "print(d)"
   ]
  },
  {
   "cell_type": "code",
   "execution_count": 7,
   "id": "75fa9a81",
   "metadata": {},
   "outputs": [
    {
     "name": "stdout",
     "output_type": "stream",
     "text": [
      "[[2.12199579e-314 3.16251293e+180]\n",
      " [4.28848981e-321 1.54693493e-311]]\n"
     ]
    }
   ],
   "source": [
    "#Empty array(uninitialized):\n",
    "e = np.empty((2,2))\n",
    "print(e)"
   ]
  },
  {
   "cell_type": "code",
   "execution_count": 9,
   "id": "2bf0cbbf",
   "metadata": {},
   "outputs": [
    {
     "name": "stdout",
     "output_type": "stream",
     "text": [
      "[0 2 4 6 8]\n"
     ]
    }
   ],
   "source": [
    "#array with a range of values:\n",
    "f = np.arange(0,10,2)\n",
    "print(f)"
   ]
  },
  {
   "cell_type": "code",
   "execution_count": 10,
   "id": "7a3efbde",
   "metadata": {},
   "outputs": [
    {
     "name": "stdout",
     "output_type": "stream",
     "text": [
      "[0.   0.25 0.5  0.75 1.  ]\n"
     ]
    }
   ],
   "source": [
    "#array with evenly spaced values:\n",
    "g = np.linspace(0,1,5)\n",
    "print(g)"
   ]
  },
  {
   "cell_type": "markdown",
   "id": "bc71f902",
   "metadata": {},
   "source": [
    "**Basic Array Operations**"
   ]
  },
  {
   "cell_type": "code",
   "execution_count": 12,
   "id": "14c0b6c7",
   "metadata": {},
   "outputs": [
    {
     "name": "stdout",
     "output_type": "stream",
     "text": [
      "[5 7 9]\n"
     ]
    }
   ],
   "source": [
    "#Element-wise addition:\n",
    "h = np.array([1,2,3])\n",
    "i = np.array([4,5,6])\n",
    "print(h+i)"
   ]
  },
  {
   "cell_type": "code",
   "execution_count": 13,
   "id": "e95161d1",
   "metadata": {},
   "outputs": [
    {
     "name": "stdout",
     "output_type": "stream",
     "text": [
      "[ 4 10 18]\n"
     ]
    }
   ],
   "source": [
    "print(h*i)"
   ]
  },
  {
   "cell_type": "code",
   "execution_count": 14,
   "id": "103a0aa1",
   "metadata": {},
   "outputs": [
    {
     "name": "stdout",
     "output_type": "stream",
     "text": [
      "[[19 22]\n",
      " [43 50]]\n"
     ]
    }
   ],
   "source": [
    "#Matrix multiplication:\n",
    "j = np.array([[1,2], [3,4]])\n",
    "k = np.array([[5,6], [7,8]])\n",
    "print(np.dot(j,k))"
   ]
  },
  {
   "cell_type": "markdown",
   "id": "7e418b01",
   "metadata": {},
   "source": [
    "**Array Indexing and Slicing**"
   ]
  },
  {
   "cell_type": "code",
   "execution_count": 16,
   "id": "426380f2",
   "metadata": {},
   "outputs": [
    {
     "name": "stdout",
     "output_type": "stream",
     "text": [
      "3\n"
     ]
    }
   ],
   "source": [
    "#Accessing an element:\n",
    "l = np.array([1,2,3,4,5])\n",
    "print(l[2])"
   ]
  },
  {
   "cell_type": "code",
   "execution_count": 17,
   "id": "7af54c7a",
   "metadata": {},
   "outputs": [
    {
     "name": "stdout",
     "output_type": "stream",
     "text": [
      "[2 3 4]\n"
     ]
    }
   ],
   "source": [
    "#slicing an array:\n",
    "print(l[1:4])"
   ]
  },
  {
   "cell_type": "code",
   "execution_count": 18,
   "id": "a49fa35f",
   "metadata": {},
   "outputs": [
    {
     "name": "stdout",
     "output_type": "stream",
     "text": [
      "6\n"
     ]
    }
   ],
   "source": [
    "#Indexing a 2D array:\n",
    "m = np.array([[1,2,3], [4,5,6], [7,8,9]])\n",
    "print(m[1,2])"
   ]
  },
  {
   "cell_type": "code",
   "execution_count": 19,
   "id": "4cf72ddf",
   "metadata": {},
   "outputs": [
    {
     "name": "stdout",
     "output_type": "stream",
     "text": [
      "[[1 2]\n",
      " [3 4]\n",
      " [5 6]]\n"
     ]
    }
   ],
   "source": [
    "#Reshaping Arrays\n",
    "n = np.array([[1,2,3], [4,5,6]])\n",
    "print(n.reshape(3,2))"
   ]
  },
  {
   "cell_type": "code",
   "execution_count": null,
   "id": "73a7fc7b",
   "metadata": {},
   "outputs": [],
   "source": []
  }
 ],
 "metadata": {
  "kernelspec": {
   "display_name": "Python 3 (ipykernel)",
   "language": "python",
   "name": "python3"
  },
  "language_info": {
   "codemirror_mode": {
    "name": "ipython",
    "version": 3
   },
   "file_extension": ".py",
   "mimetype": "text/x-python",
   "name": "python",
   "nbconvert_exporter": "python",
   "pygments_lexer": "ipython3",
   "version": "3.9.16"
  }
 },
 "nbformat": 4,
 "nbformat_minor": 5
}
