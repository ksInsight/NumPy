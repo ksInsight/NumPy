{
 "cells": [
  {
   "cell_type": "markdown",
   "id": "3846f92e",
   "metadata": {},
   "source": [
    "# Advanced Topics in NumPy Operations"
   ]
  },
  {
   "cell_type": "markdown",
   "id": "dd02387f",
   "metadata": {},
   "source": [
    "**Broadcasting**"
   ]
  },
  {
   "cell_type": "code",
   "execution_count": 2,
   "id": "5ba325bc",
   "metadata": {},
   "outputs": [
    {
     "name": "stdout",
     "output_type": "stream",
     "text": [
      "[[2 4 6]\n",
      " [5 7 9]]\n"
     ]
    }
   ],
   "source": [
    "#Basic Broadcast Example\n",
    "import numpy as np\n",
    "\n",
    "# Create a 2x3 matrix\n",
    "a = np.array([[1, 2, 3], [4, 5, 6]])\n",
    "\n",
    "# Create a 1x3 row vector\n",
    "b = np.array([1, 2, 3])\n",
    "\n",
    "# Broadcast and add\n",
    "c = a + b\n",
    "print(c)"
   ]
  },
  {
   "cell_type": "markdown",
   "id": "a0b1ccbb",
   "metadata": {},
   "source": [
    "**Linear Algebra**"
   ]
  },
  {
   "cell_type": "code",
   "execution_count": 3,
   "id": "4f09e809",
   "metadata": {},
   "outputs": [
    {
     "name": "stdout",
     "output_type": "stream",
     "text": [
      "[[19 22]\n",
      " [43 50]]\n"
     ]
    }
   ],
   "source": [
    "#Matrix Multiplication:\n",
    "A = np.array([[1, 2], [3, 4]])\n",
    "B = np.array([[5, 6], [7, 8]])\n",
    "C = np.dot(A, B)\n",
    "print(C)"
   ]
  },
  {
   "cell_type": "code",
   "execution_count": 4,
   "id": "e2b0bc72",
   "metadata": {},
   "outputs": [
    {
     "name": "stdout",
     "output_type": "stream",
     "text": [
      "-2.0000000000000004\n"
     ]
    }
   ],
   "source": [
    "#Determinant:\n",
    "det_A = np.linalg.det(A)\n",
    "print(det_A)"
   ]
  },
  {
   "cell_type": "code",
   "execution_count": 5,
   "id": "69769e23",
   "metadata": {},
   "outputs": [
    {
     "name": "stdout",
     "output_type": "stream",
     "text": [
      "Eigenvalues: [-0.37228132  5.37228132]\n",
      "Eigenvectors: [[-0.82456484 -0.41597356]\n",
      " [ 0.56576746 -0.90937671]]\n"
     ]
    }
   ],
   "source": [
    "#Eigenvalues and Eigenvectors:\n",
    "eigenvalues, eigenvectors = np.linalg.eig(A)\n",
    "print(\"Eigenvalues:\", eigenvalues)\n",
    "print(\"Eigenvectors:\", eigenvectors)"
   ]
  },
  {
   "cell_type": "code",
   "execution_count": 6,
   "id": "22b2f47b",
   "metadata": {},
   "outputs": [
    {
     "name": "stdout",
     "output_type": "stream",
     "text": [
      "[[-2.   1. ]\n",
      " [ 1.5 -0.5]]\n"
     ]
    }
   ],
   "source": [
    "#Inverse of Matrix:\n",
    "inv_A = np.linalg.inv(A)\n",
    "print(inv_A)"
   ]
  },
  {
   "cell_type": "markdown",
   "id": "1ce6bc10",
   "metadata": {},
   "source": [
    "# Advanced Indexing and Slicing"
   ]
  },
  {
   "cell_type": "code",
   "execution_count": 7,
   "id": "7e958178",
   "metadata": {},
   "outputs": [
    {
     "name": "stdout",
     "output_type": "stream",
     "text": [
      "[3 4 5]\n"
     ]
    }
   ],
   "source": [
    "#Boolean Indexing\n",
    "x = np.array([1, 2, 3, 4, 5])\n",
    "print(x[x > 2])"
   ]
  },
  {
   "cell_type": "code",
   "execution_count": 8,
   "id": "30384fff",
   "metadata": {},
   "outputs": [
    {
     "name": "stdout",
     "output_type": "stream",
     "text": [
      "[20 40 50]\n"
     ]
    }
   ],
   "source": [
    "#Fancy Indexing\n",
    "y = np.array([10, 20, 30, 40, 50])\n",
    "indices = [1, 3, 4]\n",
    "print(y[indices])"
   ]
  },
  {
   "cell_type": "code",
   "execution_count": 9,
   "id": "8170c669",
   "metadata": {},
   "outputs": [
    {
     "name": "stdout",
     "output_type": "stream",
     "text": [
      "[[4 6]\n",
      " [7 9]]\n"
     ]
    }
   ],
   "source": [
    "#combining Indexing Tachniques\n",
    "z = np.array([[1, 2, 3], [4, 5, 6], [7, 8, 9]])\n",
    "print(z[1:, [0, 2]])"
   ]
  },
  {
   "cell_type": "markdown",
   "id": "2e688fed",
   "metadata": {},
   "source": [
    "# Performance Optimization"
   ]
  },
  {
   "cell_type": "code",
   "execution_count": 10,
   "id": "1990de8b",
   "metadata": {},
   "outputs": [],
   "source": [
    "#Vectorization\n",
    "# Loop-based\n",
    "a = np.arange(1000000)\n",
    "b = np.arange(1000000)\n",
    "c = np.zeros(1000000)\n",
    "for i in range(1000000):\n",
    "    c[i] = a[i] + b[i]\n",
    "\n",
    "# Vectorized\n",
    "d = a + b"
   ]
  },
  {
   "cell_type": "code",
   "execution_count": 11,
   "id": "7380bfd3",
   "metadata": {},
   "outputs": [
    {
     "name": "stdout",
     "output_type": "stream",
     "text": [
      "  C_CONTIGUOUS : True\n",
      "  F_CONTIGUOUS : False\n",
      "  OWNDATA : True\n",
      "  WRITEABLE : True\n",
      "  ALIGNED : True\n",
      "  WRITEBACKIFCOPY : False\n",
      "\n",
      "  C_CONTIGUOUS : False\n",
      "  F_CONTIGUOUS : True\n",
      "  OWNDATA : True\n",
      "  WRITEABLE : True\n",
      "  ALIGNED : True\n",
      "  WRITEBACKIFCOPY : False\n",
      "\n"
     ]
    }
   ],
   "source": [
    "#Memory Layout\n",
    "# C-order (row-major)\n",
    "a_c = np.array([[1, 2, 3], [4, 5, 6]], order='C')\n",
    "\n",
    "# F-order (column-major)\n",
    "a_f = np.array([[1, 2, 3], [4, 5, 6]], order='F')\n",
    "\n",
    "print(a_c.flags)\n",
    "print(a_f.flags)"
   ]
  },
  {
   "cell_type": "code",
   "execution_count": 12,
   "id": "20b605b9",
   "metadata": {},
   "outputs": [
    {
     "name": "stdout",
     "output_type": "stream",
     "text": [
      "[2 3 4 5 6]\n"
     ]
    }
   ],
   "source": [
    "#Using In-Place Operations\n",
    "a = np.array([1, 2, 3, 4, 5])\n",
    "a += 1\n",
    "print(a)"
   ]
  },
  {
   "cell_type": "markdown",
   "id": "07733336",
   "metadata": {},
   "source": [
    "# Random Number Generation"
   ]
  },
  {
   "cell_type": "markdown",
   "id": "a8a5aa9d",
   "metadata": {},
   "source": [
    "**Basic Random Number Generation** "
   ]
  },
  {
   "cell_type": "code",
   "execution_count": 13,
   "id": "319418cd",
   "metadata": {},
   "outputs": [
    {
     "name": "stdout",
     "output_type": "stream",
     "text": [
      "[0.22831539 0.44509537 0.02681606 0.98523632 0.64659327]\n"
     ]
    }
   ],
   "source": [
    "random_numbers = np.random.rand(5)\n",
    "print(random_numbers)"
   ]
  },
  {
   "cell_type": "markdown",
   "id": "6c0fde6a",
   "metadata": {},
   "source": [
    "**Creating Random Arrays**"
   ]
  },
  {
   "cell_type": "code",
   "execution_count": 14,
   "id": "08f99ebd",
   "metadata": {},
   "outputs": [
    {
     "name": "stdout",
     "output_type": "stream",
     "text": [
      "[[2 0 6]\n",
      " [6 0 4]\n",
      " [2 6 1]]\n"
     ]
    }
   ],
   "source": [
    "random_array = np.random.randint(0, 10, (3, 3))\n",
    "print(random_array)"
   ]
  },
  {
   "cell_type": "markdown",
   "id": "fa12eac2",
   "metadata": {},
   "source": [
    "**Setting the Random Seed**"
   ]
  },
  {
   "cell_type": "code",
   "execution_count": 15,
   "id": "91709e21",
   "metadata": {},
   "outputs": [
    {
     "name": "stdout",
     "output_type": "stream",
     "text": [
      "[0.37454012 0.95071431 0.73199394]\n"
     ]
    }
   ],
   "source": [
    "np.random.seed(42)\n",
    "reproducible_random = np.random.rand(3)\n",
    "print(reproducible_random)"
   ]
  },
  {
   "cell_type": "markdown",
   "id": "1ec26148",
   "metadata": {},
   "source": [
    "Mastery of these topics will enable you to handle complex data manipulation tasks and optimize your computational workflows effectively"
   ]
  },
  {
   "cell_type": "code",
   "execution_count": null,
   "id": "ed63408f",
   "metadata": {},
   "outputs": [],
   "source": []
  }
 ],
 "metadata": {
  "kernelspec": {
   "display_name": "Python 3 (ipykernel)",
   "language": "python",
   "name": "python3"
  },
  "language_info": {
   "codemirror_mode": {
    "name": "ipython",
    "version": 3
   },
   "file_extension": ".py",
   "mimetype": "text/x-python",
   "name": "python",
   "nbconvert_exporter": "python",
   "pygments_lexer": "ipython3",
   "version": "3.9.16"
  }
 },
 "nbformat": 4,
 "nbformat_minor": 5
}
