{
 "cells": [
  {
   "cell_type": "markdown",
   "id": "6a8fbc47",
   "metadata": {},
   "source": [
    "# Linear Algebra Operations"
   ]
  },
  {
   "cell_type": "code",
   "execution_count": 1,
   "id": "4257ce44",
   "metadata": {},
   "outputs": [],
   "source": [
    "import numpy as np"
   ]
  },
  {
   "cell_type": "code",
   "execution_count": 3,
   "id": "a677e7ef",
   "metadata": {},
   "outputs": [],
   "source": [
    "#Creating Matrics\n",
    "A = np.array([[1, 2], [3, 4]])\n",
    "B = np.array([[5, 6], [7, 8]])"
   ]
  },
  {
   "cell_type": "markdown",
   "id": "c57b7018",
   "metadata": {},
   "source": [
    "**Basic Operations**"
   ]
  },
  {
   "cell_type": "code",
   "execution_count": 5,
   "id": "849db812",
   "metadata": {},
   "outputs": [
    {
     "name": "stdout",
     "output_type": "stream",
     "text": [
      "[[ 6  8]\n",
      " [10 12]]\n"
     ]
    }
   ],
   "source": [
    "#Matrix Addition\n",
    "C = A + B\n",
    "print(C)"
   ]
  },
  {
   "cell_type": "code",
   "execution_count": 6,
   "id": "f5a7db95",
   "metadata": {},
   "outputs": [
    {
     "name": "stdout",
     "output_type": "stream",
     "text": [
      "[[-4 -4]\n",
      " [-4 -4]]\n"
     ]
    }
   ],
   "source": [
    "#Matrix Subtraction\n",
    "D = A - B\n",
    "print(D)"
   ]
  },
  {
   "cell_type": "code",
   "execution_count": 7,
   "id": "abd55166",
   "metadata": {},
   "outputs": [
    {
     "name": "stdout",
     "output_type": "stream",
     "text": [
      "[[19 22]\n",
      " [43 50]]\n",
      "[[19 22]\n",
      " [43 50]]\n"
     ]
    }
   ],
   "source": [
    "#Matrix Multiplication\n",
    "E = np.dot(A, B)\n",
    "print(E)\n",
    "\n",
    "# Alternatively\n",
    "F = A @ B\n",
    "print(F)"
   ]
  },
  {
   "cell_type": "code",
   "execution_count": 8,
   "id": "67c7b6f2",
   "metadata": {},
   "outputs": [
    {
     "name": "stdout",
     "output_type": "stream",
     "text": [
      "[[1 3]\n",
      " [2 4]]\n"
     ]
    }
   ],
   "source": [
    "#Transpose of a Matrix\n",
    "G = A.T\n",
    "print(G)"
   ]
  },
  {
   "cell_type": "code",
   "execution_count": 9,
   "id": "2ce50773",
   "metadata": {},
   "outputs": [
    {
     "name": "stdout",
     "output_type": "stream",
     "text": [
      "-2.0000000000000004\n"
     ]
    }
   ],
   "source": [
    "#Determination of a Matrix\n",
    "H = np.linalg.det(A)\n",
    "print(H)"
   ]
  },
  {
   "cell_type": "code",
   "execution_count": 10,
   "id": "2c64e438",
   "metadata": {},
   "outputs": [
    {
     "name": "stdout",
     "output_type": "stream",
     "text": [
      "[[-2.   1. ]\n",
      " [ 1.5 -0.5]]\n"
     ]
    }
   ],
   "source": [
    "#Inverse of a Matrix\n",
    "I = np.linalg.inv(A)\n",
    "print(I)"
   ]
  },
  {
   "cell_type": "code",
   "execution_count": 11,
   "id": "a46745ee",
   "metadata": {},
   "outputs": [
    {
     "name": "stdout",
     "output_type": "stream",
     "text": [
      "Eigenvalues: [-0.37228132  5.37228132]\n",
      "Eigenvectors: [[-0.82456484 -0.41597356]\n",
      " [ 0.56576746 -0.90937671]]\n"
     ]
    }
   ],
   "source": [
    "#Eigenvalues and Eigenvectors\n",
    "eigenvalues, eigenvectors = np.linalg.eig(A)\n",
    "print(\"Eigenvalues:\", eigenvalues)\n",
    "print(\"Eigenvectors:\", eigenvectors)"
   ]
  },
  {
   "cell_type": "code",
   "execution_count": 12,
   "id": "fa2d5516",
   "metadata": {},
   "outputs": [
    {
     "name": "stdout",
     "output_type": "stream",
     "text": [
      "U matrix: [[-0.40455358 -0.9145143 ]\n",
      " [-0.9145143   0.40455358]]\n",
      "Singular values: [5.4649857  0.36596619]\n",
      "V matrix: [[-0.57604844 -0.81741556]\n",
      " [ 0.81741556 -0.57604844]]\n"
     ]
    }
   ],
   "source": [
    "#Singular Value Decomposition(SVD)\n",
    "U, S, V = np.linalg.svd(A)\n",
    "print(\"U matrix:\", U)\n",
    "print(\"Singular values:\", S)\n",
    "print(\"V matrix:\", V)"
   ]
  },
  {
   "cell_type": "code",
   "execution_count": 13,
   "id": "7a5579dd",
   "metadata": {},
   "outputs": [
    {
     "name": "stdout",
     "output_type": "stream",
     "text": [
      "[0.  0.5]\n"
     ]
    }
   ],
   "source": [
    "#Solving Linear Equations\n",
    "b = np.array([1, 2])\n",
    "x = np.linalg.solve(A, b)\n",
    "print(x)"
   ]
  },
  {
   "cell_type": "code",
   "execution_count": 14,
   "id": "f4024af6",
   "metadata": {},
   "outputs": [
    {
     "name": "stdout",
     "output_type": "stream",
     "text": [
      "5.477225575051661\n",
      "5.0\n"
     ]
    }
   ],
   "source": [
    "#Norms of Vectors and Matrices\n",
    "# Frobenius norm\n",
    "fro_norm = np.linalg.norm(A)\n",
    "print(fro_norm)\n",
    "\n",
    "# L2 norm of a vector\n",
    "v = np.array([3, 4])\n",
    "l2_norm = np.linalg.norm(v)\n",
    "print(l2_norm)"
   ]
  },
  {
   "cell_type": "markdown",
   "id": "eab596c7",
   "metadata": {},
   "source": [
    "Mastering these operations is crucial for leveraging the full power of NumPy in scientific computing and data analysis."
   ]
  },
  {
   "cell_type": "code",
   "execution_count": null,
   "id": "170a6bcd",
   "metadata": {},
   "outputs": [],
   "source": []
  }
 ],
 "metadata": {
  "kernelspec": {
   "display_name": "Python 3 (ipykernel)",
   "language": "python",
   "name": "python3"
  },
  "language_info": {
   "codemirror_mode": {
    "name": "ipython",
    "version": 3
   },
   "file_extension": ".py",
   "mimetype": "text/x-python",
   "name": "python",
   "nbconvert_exporter": "python",
   "pygments_lexer": "ipython3",
   "version": "3.9.16"
  }
 },
 "nbformat": 4,
 "nbformat_minor": 5
}
